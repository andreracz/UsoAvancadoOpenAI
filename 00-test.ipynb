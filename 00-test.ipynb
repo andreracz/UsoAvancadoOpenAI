{
 "cells": [
  {
   "cell_type": "code",
   "execution_count": 1,
   "metadata": {
    "dotnet_interactive": {
     "language": "csharp"
    },
    "polyglot_notebook": {
     "kernelName": "csharp"
    },
    "vscode": {
     "languageId": "polyglot-notebook"
    }
   },
   "outputs": [
    {
     "data": {
      "text/html": [
       "<div><div></div><div></div><div><strong>Installed Packages</strong><ul><li><span>Azure.AI.OpenAI, 1.0.0-beta.12</span></li></ul></div></div>"
      ]
     },
     "metadata": {},
     "output_type": "display_data"
    }
   ],
   "source": [
    "// Load some helper functions, e.g. to load values from settings.json\n",
    "#!import config/Settings.cs\n",
    "\n",
    "// Import Semantic Kernel\n",
    "#r \"nuget: Azure.AI.OpenAI, 1.0.0-beta.12\"\n",
    "using Azure.AI.OpenAI;\n",
    "var (model, azureEndpoint, apiKey) = Settings.LoadFromFile();\n",
    "\n",
    "\n",
    "var endpoint = new Uri(azureEndpoint);\n",
    "var credentials = new Azure.AzureKeyCredential(apiKey);\n",
    "var openAIClient = new OpenAIClient(endpoint, credentials);"
   ]
  },
  {
   "cell_type": "code",
   "execution_count": 2,
   "metadata": {
    "dotnet_interactive": {
     "language": "csharp"
    },
    "polyglot_notebook": {
     "kernelName": "csharp"
    },
    "vscode": {
     "languageId": "polyglot-notebook"
    }
   },
   "outputs": [],
   "source": [
    "var system = \n",
    "\"\"\" \n",
    "Você é um assistente virtual que ajuda as pessoas a encontrar um restaurante e fazer uma reserva.\n",
    "\"\"\";"
   ]
  },
  {
   "cell_type": "code",
   "execution_count": 6,
   "metadata": {
    "dotnet_interactive": {
     "language": "csharp"
    },
    "polyglot_notebook": {
     "kernelName": "csharp"
    },
    "vscode": {
     "languageId": "polyglot-notebook"
    }
   },
   "outputs": [],
   "source": [
    "var completionOptions = new ChatCompletionsOptions\n",
    "{\n",
    "    MaxTokens=400,\n",
    "    Temperature=1f,\n",
    "    FrequencyPenalty=0.0f,\n",
    "    PresencePenalty=0.0f,\n",
    "    NucleusSamplingFactor = 0.95f, // Top P\n",
    "    DeploymentName=model\n",
    "};"
   ]
  },
  {
   "cell_type": "code",
   "execution_count": 5,
   "metadata": {
    "dotnet_interactive": {
     "language": "csharp"
    },
    "polyglot_notebook": {
     "kernelName": "csharp"
    },
    "vscode": {
     "languageId": "polyglot-notebook"
    }
   },
   "outputs": [
    {
     "data": {
      "text/html": [
       "<details open=\"open\" class=\"dni-treeview\"><summary><span class=\"dni-code-hint\"><code>[ Azure.AI.OpenAI.ChatRequestSystemMessage ]</code></span></summary><div><table><thead><tr></tr></thead><tbody><tr><td>IsUndefined</td><td><div class=\"dni-plaintext\"><pre>False</pre></div></td></tr><tr><td>Count</td><td><div class=\"dni-plaintext\"><pre>1</pre></div></td></tr><tr><td>IsReadOnly</td><td><div class=\"dni-plaintext\"><pre>False</pre></div></td></tr><tr><td><i>(values)</i></td><td><table><thead><tr><th><i>index</i></th><th>value</th></tr></thead><tbody><tr><td>0</td><td><details class=\"dni-treeview\"><summary><span class=\"dni-code-hint\"><code>Azure.AI.OpenAI.ChatRequestSystemMessage</code></span></summary><div><table><thead><tr></tr></thead><tbody><tr><td>Content</td><td><div class=\"dni-plaintext\"><pre>Voc&#234; &#233; um assistente virtual que ajuda as pessoas a encontrar um restaurante e fazer uma reserva.</pre></div></td></tr><tr><td>Name</td><td><div class=\"dni-plaintext\"><pre>&lt;null&gt;</pre></div></td></tr><tr><td>Role</td><td><details class=\"dni-treeview\"><summary><span class=\"dni-code-hint\"><code>system</code></span></summary><div><table><thead><tr></tr></thead><tbody></tbody></table></div></details></td></tr></tbody></table></div></details></td></tr></tbody></table></td></tr></tbody></table></div></details><style>\r\n",
       ".dni-code-hint {\r\n",
       "    font-style: italic;\r\n",
       "    overflow: hidden;\r\n",
       "    white-space: nowrap;\r\n",
       "}\r\n",
       ".dni-treeview {\r\n",
       "    white-space: nowrap;\r\n",
       "}\r\n",
       ".dni-treeview td {\r\n",
       "    vertical-align: top;\r\n",
       "    text-align: start;\r\n",
       "}\r\n",
       "details.dni-treeview {\r\n",
       "    padding-left: 1em;\r\n",
       "}\r\n",
       "table td {\r\n",
       "    text-align: start;\r\n",
       "}\r\n",
       "table tr { \r\n",
       "    vertical-align: top; \r\n",
       "    margin: 0em 0px;\r\n",
       "}\r\n",
       "table tr td pre \r\n",
       "{ \r\n",
       "    vertical-align: top !important; \r\n",
       "    margin: 0em 0px !important;\r\n",
       "} \r\n",
       "table th {\r\n",
       "    text-align: start;\r\n",
       "}\r\n",
       "</style>"
      ]
     },
     "metadata": {},
     "output_type": "display_data"
    }
   ],
   "source": [
    "completionOptions.Messages.Add(new ChatRequestSystemMessage(system));\n",
    "\n",
    "completionOptions.Messages"
   ]
  },
  {
   "cell_type": "code",
   "execution_count": 7,
   "metadata": {
    "dotnet_interactive": {
     "language": "csharp"
    },
    "polyglot_notebook": {
     "kernelName": "csharp"
    },
    "vscode": {
     "languageId": "polyglot-notebook"
    }
   },
   "outputs": [],
   "source": [
    "completionOptions.Messages.Add(new ChatRequestUserMessage(\"Olá\"));\n",
    "ChatCompletions response = await openAIClient.GetChatCompletionsAsync(completionOptions);\n"
   ]
  },
  {
   "cell_type": "code",
   "execution_count": 11,
   "metadata": {
    "dotnet_interactive": {
     "language": "csharp"
    },
    "polyglot_notebook": {
     "kernelName": "csharp"
    },
    "vscode": {
     "languageId": "polyglot-notebook"
    }
   },
   "outputs": [
    {
     "data": {
      "text/plain": [
       "Olá! Como posso ajudá-lo hoje?"
      ]
     },
     "metadata": {},
     "output_type": "display_data"
    }
   ],
   "source": [
    "completionOptions.Messages.Add(new ChatRequestAssistantMessage(response.Choices[0].Message.Content));\n",
    "response.Choices[0].Message.Content\n",
    "\n"
   ]
  },
  {
   "cell_type": "code",
   "execution_count": 12,
   "metadata": {
    "dotnet_interactive": {
     "language": "csharp"
    },
    "polyglot_notebook": {
     "kernelName": "csharp"
    },
    "vscode": {
     "languageId": "polyglot-notebook"
    }
   },
   "outputs": [
    {
     "data": {
      "text/plain": [
       "Claro, aqui estão algumas sugestões de restaurantes mexicanos em São Paulo:\n",
       "\n",
       "1. La Sabrosa Taquería Mexicana: Um restaurante aconchegante em Pinheiros que oferece tacos, nachos, burritos e uma seleção de cervejas mexicanas.\n",
       "\n",
       "2. Hecho en Mexico: Localizado em Moema, este restaurante oferece uma variedade de pratos mexicanos tradicionais, bem como um bar de margaritas.\n",
       "\n",
       "3. Sí Señor!: Uma popular cadeia de restaurantes com várias localizações em São Paulo, conhecida por suas fajitas, enchiladas e margaritas.\n",
       "\n",
       "4. Obá Restaurante: Embora não seja estritamente um restaurante mexicano, o Obá oferece uma variedade de pratos latinos, incluindo opções mexicanas. Está localizado na Rua Melo Alves, Jardins.\n",
       "\n",
       "5. El Kabong: Com um ambiente descontraído, este restaurante em Pinheiros oferece música ao vivo e uma variedade de pratos mexicanos.\n",
       "\n",
       "Lembre-se de sempre verificar o horário de funcionamento antes de ir, pois eles podem variar."
      ]
     },
     "metadata": {},
     "output_type": "display_data"
    }
   ],
   "source": [
    "completionOptions.Messages.Add(new ChatRequestUserMessage(\"Quero um restaurante mexicano em São Paulo\"));\n",
    "ChatCompletions response = await openAIClient.GetChatCompletionsAsync(completionOptions);\n",
    "completionOptions.Messages.Add(new ChatRequestAssistantMessage(response.Choices[0].Message.Content));\n",
    "response.Choices[0].Message.Content"
   ]
  },
  {
   "cell_type": "code",
   "execution_count": 13,
   "metadata": {
    "dotnet_interactive": {
     "language": "csharp"
    },
    "polyglot_notebook": {
     "kernelName": "csharp"
    },
    "vscode": {
     "languageId": "polyglot-notebook"
    }
   },
   "outputs": [
    {
     "data": {
      "text/plain": [
       "Desculpe pela confusão, mas como assistente de inteligência artificial, não tenho a habilidade para fazer reservas de restaurantes. Recomendo entrar em contato diretamente com o restaurante \"La Sabrosa Taquería Mexicana\" ou usar um aplicativo de reservas online, como o OpenTable ou o TheFork."
      ]
     },
     "metadata": {},
     "output_type": "display_data"
    }
   ],
   "source": [
    "completionOptions.Messages.Add(new ChatRequestUserMessage(\"Reserve no Labrosa para 4 pessoas, amanhã as 20h00\"));\n",
    "ChatCompletions response = await openAIClient.GetChatCompletionsAsync(completionOptions);\n",
    "completionOptions.Messages.Add(new ChatRequestAssistantMessage(response.Choices[0].Message.Content));\n",
    "response.Choices[0].Message.Content"
   ]
  }
 ],
 "metadata": {
  "language_info": {
   "name": "python"
  },
  "orig_nbformat": 4
 },
 "nbformat": 4,
 "nbformat_minor": 2
}
