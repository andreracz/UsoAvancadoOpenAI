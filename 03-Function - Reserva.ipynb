{
 "cells": [
  {
   "cell_type": "code",
   "execution_count": 18,
   "metadata": {
    "dotnet_interactive": {
     "language": "csharp"
    },
    "polyglot_notebook": {
     "kernelName": "csharp"
    },
    "vscode": {
     "languageId": "polyglot-notebook"
    }
   },
   "outputs": [
    {
     "data": {
      "text/html": [
       "<div><div></div><div></div><div><strong>Installed Packages</strong><ul><li><span>Azure.AI.OpenAI, 1.0.0-beta.12</span></li></ul></div></div>"
      ]
     },
     "metadata": {},
     "output_type": "display_data"
    }
   ],
   "source": [
    "// Load some helper functions, e.g. to load values from settings.json\n",
    "#!import config/Settings.cs\n",
    "\n",
    "// Import Semantic Kernel\n",
    "#r \"nuget: Azure.AI.OpenAI, 1.0.0-beta.12\"\n",
    "using Azure.AI.OpenAI;\n",
    "var (model, azureEndpoint, apiKey) = Settings.LoadFromFile();\n",
    "\n",
    "\n",
    "var endpoint = new Uri(azureEndpoint);\n",
    "var credentials = new Azure.AzureKeyCredential(apiKey);\n",
    "var openAIClient = new OpenAIClient(endpoint, credentials);"
   ]
  },
  {
   "cell_type": "code",
   "execution_count": 19,
   "metadata": {
    "dotnet_interactive": {
     "language": "csharp"
    },
    "polyglot_notebook": {
     "kernelName": "csharp"
    },
    "vscode": {
     "languageId": "polyglot-notebook"
    }
   },
   "outputs": [],
   "source": [
    "var system = \n",
    "\"\"\" \n",
    "Você é um assistente virtual que ajuda as pessoas a encontrar um restaurante e fazer uma reserva. Data atual: 2024-02-15\n",
    "\"\"\";"
   ]
  },
  {
   "cell_type": "code",
   "execution_count": 20,
   "metadata": {
    "dotnet_interactive": {
     "language": "csharp"
    },
    "polyglot_notebook": {
     "kernelName": "csharp"
    },
    "vscode": {
     "languageId": "polyglot-notebook"
    }
   },
   "outputs": [],
   "source": [
    "var functionDef = new FunctionDefinition()\n",
    "        {\n",
    "            Name = \"bookRestaurant\",\n",
    "            Description = \"Book a restaurant\",\n",
    "            Parameters = BinaryData.FromObjectAsJson(\n",
    "            new\n",
    "            {\n",
    "                Type = \"object\",\n",
    "                Properties = new\n",
    "                {\n",
    "                     name = new\n",
    "                    {\n",
    "                        Type = \"string\",\n",
    "                        Description = \"name of the restaurant\"\n",
    "                    },\n",
    "                    persons = new\n",
    "                    {\n",
    "                        Type = \"integer\",\n",
    "                        Description = \"quantity of persons for the reservation\"\n",
    "                    },\n",
    "                     date = new\n",
    "                    {\n",
    "                        Type = \"string\",\n",
    "                        Description = \"date for the reservation\"\n",
    "                    }\n",
    "                },\n",
    "                Required = new[] { \"name\", \"persons\", \"date\" },\n",
    "            },\n",
    "            new JsonSerializerOptions() { PropertyNamingPolicy = JsonNamingPolicy.CamelCase }),\n",
    "        };"
   ]
  },
  {
   "cell_type": "code",
   "execution_count": 21,
   "metadata": {
    "dotnet_interactive": {
     "language": "csharp"
    },
    "polyglot_notebook": {
     "kernelName": "csharp"
    },
    "vscode": {
     "languageId": "polyglot-notebook"
    }
   },
   "outputs": [],
   "source": [
    "var completionOptions = new ChatCompletionsOptions\n",
    "{\n",
    "    MaxTokens=400,\n",
    "    Temperature=1f,\n",
    "    FrequencyPenalty=0.0f,\n",
    "    PresencePenalty=0.0f,\n",
    "    NucleusSamplingFactor = 0.95f, // Top P\n",
    "    DeploymentName=model\n",
    "};"
   ]
  },
  {
   "cell_type": "code",
   "execution_count": 22,
   "metadata": {
    "dotnet_interactive": {
     "language": "csharp"
    },
    "polyglot_notebook": {
     "kernelName": "csharp"
    },
    "vscode": {
     "languageId": "polyglot-notebook"
    }
   },
   "outputs": [],
   "source": [
    "completionOptions.Functions.Add(functionDef);\n",
    "completionOptions.Messages.Add(new ChatRequestSystemMessage(system));\n"
   ]
  },
  {
   "cell_type": "code",
   "execution_count": 23,
   "metadata": {
    "dotnet_interactive": {
     "language": "csharp"
    },
    "polyglot_notebook": {
     "kernelName": "csharp"
    },
    "vscode": {
     "languageId": "polyglot-notebook"
    }
   },
   "outputs": [],
   "source": [
    "completionOptions.Messages.Add(new ChatRequestUserMessage(\"Olá\"));\n",
    "ChatCompletions response = await openAIClient.GetChatCompletionsAsync(completionOptions);\n"
   ]
  },
  {
   "cell_type": "code",
   "execution_count": 24,
   "metadata": {
    "dotnet_interactive": {
     "language": "csharp"
    },
    "polyglot_notebook": {
     "kernelName": "csharp"
    },
    "vscode": {
     "languageId": "polyglot-notebook"
    }
   },
   "outputs": [
    {
     "data": {
      "text/plain": [
       "Olá! Como posso ajudá-lo hoje? Você está procurando um restaurante ou precisa fazer uma reserva?"
      ]
     },
     "metadata": {},
     "output_type": "display_data"
    }
   ],
   "source": [
    "completionOptions.Messages.Add(new ChatRequestAssistantMessage(response.Choices[0].Message.Content));\n",
    "response.Choices[0].Message.Content\n",
    "\n"
   ]
  },
  {
   "cell_type": "code",
   "execution_count": 25,
   "metadata": {
    "dotnet_interactive": {
     "language": "csharp"
    },
    "polyglot_notebook": {
     "kernelName": "csharp"
    },
    "vscode": {
     "languageId": "polyglot-notebook"
    }
   },
   "outputs": [
    {
     "data": {
      "text/plain": [
       "São Paulo possui uma diversidade incrível de restaurantes, incluindo várias opções de culinária mexicana. Aqui estão alguns restaurantes mexicanos populares em São Paulo:\n",
       "\n",
       "1. **Si Señor**: Uma rede de restaurantes mexicanos que oferece um ambiente alegre e pratos típicos, como burritos, tacos, nachos e margaritas.\n",
       "\n",
       "2. **Hecho en México**: Um espaço acolhedor que serve autênticos pratos mexicanos, acompanhados de uma seleção de tequilas e mezcal.\n",
       "\n",
       "3. **La Mexicana**: Conhecido por seu ambiente colorido e comida tradicional mexicana. É um ótimo local para experimentar moles e chilaquiles.\n",
       "\n",
       "4. **Dedo de la Chica**: Uma opção mais moderna e descontraída que mistura a comida de rua mexicana com pratos mais elaborados.\n",
       "\n",
       "5. **Tollocos**: Famoso entre os paulistanos pelos seus tacos e burritos generosos e a um preço acessível.\n",
       "\n",
       "6. **El Kabong Grill**: Combina a culinária Tex-Mex com um ambiente descontraído, é conhecido por suas fajitas e margaritas.\n",
       "\n",
       "Caso algum desses restaurantes lhe interesse ou você esteja procurando algo específico, posso ajudá-lo a fazer uma reserva. Basta me informar o nome do restaurante, a quantidade de pessoas para a reserva e a data que você deseja."
      ]
     },
     "metadata": {},
     "output_type": "display_data"
    }
   ],
   "source": [
    "completionOptions.Messages.Add(new ChatRequestUserMessage(\"Quero um restaurante mexicano em São Paulo\"));\n",
    "ChatCompletions response = await openAIClient.GetChatCompletionsAsync(completionOptions);\n",
    "completionOptions.Messages.Add(new ChatRequestAssistantMessage(response.Choices[0].Message.Content));\n",
    "response.Choices[0].Message.Content"
   ]
  },
  {
   "cell_type": "code",
   "execution_count": 26,
   "metadata": {
    "dotnet_interactive": {
     "language": "csharp"
    },
    "polyglot_notebook": {
     "kernelName": "csharp"
    },
    "vscode": {
     "languageId": "polyglot-notebook"
    }
   },
   "outputs": [
    {
     "data": {
      "text/html": [
       "<details open=\"open\" class=\"dni-treeview\"><summary><span class=\"dni-code-hint\"><code>Azure.AI.OpenAI.ChatResponseMessage</code></span></summary><div><table><thead><tr></tr></thead><tbody><tr><td>Role</td><td><details class=\"dni-treeview\"><summary><span class=\"dni-code-hint\"><code>assistant</code></span></summary><div><table><thead><tr></tr></thead><tbody></tbody></table></div></details></td></tr><tr><td>Content</td><td><div class=\"dni-plaintext\"><pre>&lt;null&gt;</pre></div></td></tr><tr><td>ToolCalls</td><td><details class=\"dni-treeview\"><summary><span class=\"dni-code-hint\"><code>[  ]</code></span></summary><div><table><thead><tr></tr></thead><tbody><tr><td>IsUndefined</td><td><div class=\"dni-plaintext\"><pre>True</pre></div></td></tr><tr><td>Count</td><td><div class=\"dni-plaintext\"><pre>0</pre></div></td></tr><tr><td>IsReadOnly</td><td><div class=\"dni-plaintext\"><pre>False</pre></div></td></tr><tr><td><i>(values)</i></td><td><i>(empty)</i></td></tr></tbody></table></div></details></td></tr><tr><td>FunctionCall</td><td><details class=\"dni-treeview\"><summary><span class=\"dni-code-hint\"><code>Azure.AI.OpenAI.FunctionCall</code></span></summary><div><table><thead><tr></tr></thead><tbody><tr><td>Name</td><td><div class=\"dni-plaintext\"><pre>bookRestaurant</pre></div></td></tr><tr><td>Arguments</td><td><div class=\"dni-plaintext\"><pre>{&quot;name&quot;:&quot;Hecho en M&#195;&#169;xico&quot;,&quot;persons&quot;:4,&quot;date&quot;:&quot;2024-02-16T20:00:00Z&quot;}</pre></div></td></tr></tbody></table></div></details></td></tr><tr><td>AzureExtensionsContext</td><td><div class=\"dni-plaintext\"><pre>&lt;null&gt;</pre></div></td></tr></tbody></table></div></details><style>\r\n",
       ".dni-code-hint {\r\n",
       "    font-style: italic;\r\n",
       "    overflow: hidden;\r\n",
       "    white-space: nowrap;\r\n",
       "}\r\n",
       ".dni-treeview {\r\n",
       "    white-space: nowrap;\r\n",
       "}\r\n",
       ".dni-treeview td {\r\n",
       "    vertical-align: top;\r\n",
       "    text-align: start;\r\n",
       "}\r\n",
       "details.dni-treeview {\r\n",
       "    padding-left: 1em;\r\n",
       "}\r\n",
       "table td {\r\n",
       "    text-align: start;\r\n",
       "}\r\n",
       "table tr { \r\n",
       "    vertical-align: top; \r\n",
       "    margin: 0em 0px;\r\n",
       "}\r\n",
       "table tr td pre \r\n",
       "{ \r\n",
       "    vertical-align: top !important; \r\n",
       "    margin: 0em 0px !important;\r\n",
       "} \r\n",
       "table th {\r\n",
       "    text-align: start;\r\n",
       "}\r\n",
       "</style>"
      ]
     },
     "metadata": {},
     "output_type": "display_data"
    }
   ],
   "source": [
    "completionOptions.Messages.Add(new ChatRequestUserMessage(\"Reserve no Hecho en México para 4 pessoas, amanhã as 20h00\"));\n",
    "ChatCompletions response = await openAIClient.GetChatCompletionsAsync(completionOptions);\n",
    "response.Choices[0].Message"
   ]
  },
  {
   "cell_type": "code",
   "execution_count": 27,
   "metadata": {
    "dotnet_interactive": {
     "language": "csharp"
    },
    "polyglot_notebook": {
     "kernelName": "csharp"
    },
    "vscode": {
     "languageId": "polyglot-notebook"
    }
   },
   "outputs": [],
   "source": [
    "completionOptions.Messages.Add(new ChatRequestAssistantMessage(response.Choices[0].Message));\n",
    "completionOptions.Messages.Add(new ChatRequestFunctionMessage(\"bookRestaurant\",  \"OK\"));"
   ]
  },
  {
   "cell_type": "code",
   "execution_count": 28,
   "metadata": {
    "dotnet_interactive": {
     "language": "csharp"
    },
    "polyglot_notebook": {
     "kernelName": "csharp"
    },
    "vscode": {
     "languageId": "polyglot-notebook"
    }
   },
   "outputs": [
    {
     "data": {
      "text/html": [
       "<details open=\"open\" class=\"dni-treeview\"><summary><span class=\"dni-code-hint\"><code>Azure.AI.OpenAI.ChatResponseMessage</code></span></summary><div><table><thead><tr></tr></thead><tbody><tr><td>Role</td><td><details class=\"dni-treeview\"><summary><span class=\"dni-code-hint\"><code>assistant</code></span></summary><div><table><thead><tr></tr></thead><tbody></tbody></table></div></details></td></tr><tr><td>Content</td><td><div class=\"dni-plaintext\"><pre>Sua reserva no Hecho en M&#233;xico para 4 pessoas amanh&#227; &#224;s 20:00 foi realizada com sucesso. Se voc&#234; precisar de mais alguma coisa ou quiser alterar sua reserva, estou &#224; disposi&#231;&#227;o para ajudar. Aproveite seu jantar!</pre></div></td></tr><tr><td>ToolCalls</td><td><details class=\"dni-treeview\"><summary><span class=\"dni-code-hint\"><code>[  ]</code></span></summary><div><table><thead><tr></tr></thead><tbody><tr><td>IsUndefined</td><td><div class=\"dni-plaintext\"><pre>True</pre></div></td></tr><tr><td>Count</td><td><div class=\"dni-plaintext\"><pre>0</pre></div></td></tr><tr><td>IsReadOnly</td><td><div class=\"dni-plaintext\"><pre>False</pre></div></td></tr><tr><td><i>(values)</i></td><td><i>(empty)</i></td></tr></tbody></table></div></details></td></tr><tr><td>FunctionCall</td><td><div class=\"dni-plaintext\"><pre>&lt;null&gt;</pre></div></td></tr><tr><td>AzureExtensionsContext</td><td><div class=\"dni-plaintext\"><pre>&lt;null&gt;</pre></div></td></tr></tbody></table></div></details><style>\r\n",
       ".dni-code-hint {\r\n",
       "    font-style: italic;\r\n",
       "    overflow: hidden;\r\n",
       "    white-space: nowrap;\r\n",
       "}\r\n",
       ".dni-treeview {\r\n",
       "    white-space: nowrap;\r\n",
       "}\r\n",
       ".dni-treeview td {\r\n",
       "    vertical-align: top;\r\n",
       "    text-align: start;\r\n",
       "}\r\n",
       "details.dni-treeview {\r\n",
       "    padding-left: 1em;\r\n",
       "}\r\n",
       "table td {\r\n",
       "    text-align: start;\r\n",
       "}\r\n",
       "table tr { \r\n",
       "    vertical-align: top; \r\n",
       "    margin: 0em 0px;\r\n",
       "}\r\n",
       "table tr td pre \r\n",
       "{ \r\n",
       "    vertical-align: top !important; \r\n",
       "    margin: 0em 0px !important;\r\n",
       "} \r\n",
       "table th {\r\n",
       "    text-align: start;\r\n",
       "}\r\n",
       "</style>"
      ]
     },
     "metadata": {},
     "output_type": "display_data"
    }
   ],
   "source": [
    "ChatCompletions response = await openAIClient.GetChatCompletionsAsync(completionOptions);\n",
    "response.Choices[0].Message"
   ]
  }
 ],
 "metadata": {
  "language_info": {
   "name": "python"
  },
  "orig_nbformat": 4
 },
 "nbformat": 4,
 "nbformat_minor": 2
}
